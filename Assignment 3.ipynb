{
 "cells": [
  {
   "cell_type": "markdown",
   "metadata": {},
   "source": [
    "# Assignment 3"
   ]
  },
  {
   "cell_type": "markdown",
   "metadata": {},
   "source": [
    "### Write a function to count the number 4 in a given list."
   ]
  },
  {
   "cell_type": "code",
   "execution_count": 21,
   "metadata": {},
   "outputs": [
    {
     "name": "stdout",
     "output_type": "stream",
     "text": [
      "3\n"
     ]
    }
   ],
   "source": [
    "from functools import reduce\n",
    "\n",
    "def four_count(l):\n",
    "    count = 0\n",
    "    for i in l:\n",
    "        count += int(i == 4)\n",
    "    return count\n",
    "\n",
    "print(four_count([1,3,4,4,5,6,4]))"
   ]
  },
  {
   "cell_type": "markdown",
   "metadata": {},
   "source": [
    "### write a  function to check whether a number is divisible by another number."
   ]
  },
  {
   "cell_type": "code",
   "execution_count": 24,
   "metadata": {},
   "outputs": [
    {
     "name": "stdout",
     "output_type": "stream",
     "text": [
      "True\n",
      "False\n"
     ]
    }
   ],
   "source": [
    "def is_divisible(num, div):\n",
    "    return num % div == 0\n",
    "\n",
    "print(is_divisible(10, 5))\n",
    "\n",
    "print(is_divisible(2, 3))"
   ]
  },
  {
   "cell_type": "markdown",
   "metadata": {},
   "source": [
    "### write a function to find the maximum and minimum numbers from a sequence of numbers."
   ]
  },
  {
   "cell_type": "code",
   "execution_count": 30,
   "metadata": {},
   "outputs": [
    {
     "name": "stdout",
     "output_type": "stream",
     "text": [
      "2 22\n"
     ]
    }
   ],
   "source": [
    "def max_min(*l):\n",
    "    max_num, min_num = 0, 0\n",
    "    \n",
    "    for i in range(1, len(l)):\n",
    "        min_num = i if l[i] < l[min_num] else min_num\n",
    "        max_num = i if l[i] > l[max_num] else max_num\n",
    "    \n",
    "    return l[min_num], l[max_num]\n",
    "\n",
    "print(*max_min(3,4,2,4,2,4,22))"
   ]
  },
  {
   "cell_type": "markdown",
   "metadata": {},
   "source": [
    "### Write a Python function that takes two lists and returns True if they have at least one common member."
   ]
  },
  {
   "cell_type": "code",
   "execution_count": 55,
   "metadata": {},
   "outputs": [
    {
     "name": "stdout",
     "output_type": "stream",
     "text": [
      "False\n"
     ]
    }
   ],
   "source": [
    "def common_lists(l1, l2):\n",
    "    for i in l1:\n",
    "        if i in l2:\n",
    "            return True\n",
    "    return False\n",
    "\n",
    "print(common_lists([1,2,3,2], [43,5,10]))"
   ]
  },
  {
   "cell_type": "markdown",
   "metadata": {},
   "source": [
    "### Write a Python function to calculate the factorial of a number (a non-negative integer). The function accepts the number from the user"
   ]
  },
  {
   "cell_type": "code",
   "execution_count": 7,
   "metadata": {},
   "outputs": [
    {
     "name": "stdout",
     "output_type": "stream",
     "text": [
      "please enter a number: -100\n",
      "AbsErorr: please enter a positive number\n",
      "\n",
      "please enter a number: 6\n",
      "720\n"
     ]
    }
   ],
   "source": [
    "class AbsErorr(Exception):\n",
    "    def __init__(self, message=\"please enter a positive number\"):\n",
    "        self.message = message\n",
    "        super().__init__(self, self.message)\n",
    "        \n",
    "\n",
    "def factorial():\n",
    "    while True:\n",
    "        try:\n",
    "            n = int(input(\"please enter a number: \"))\n",
    "\n",
    "            if abs(n) != n:\n",
    "                raise AbsErorr()\n",
    "        except Exception as e:\n",
    "            print(f\"{e.__class__.__name__}: {e.message if hasattr(e, 'message') else e.__str__()}\\n\")\n",
    "        else:\n",
    "            break\n",
    "    \n",
    "    def fact(n):\n",
    "        if n == 1:\n",
    "            return n\n",
    "        return n * fact(n - 1)\n",
    "    \n",
    "    return fact(n)\n",
    "\n",
    "    \n",
    "print(factorial())"
   ]
  },
  {
   "cell_type": "markdown",
   "metadata": {},
   "source": [
    "### Write a Python function to check whether a number is in a given range.\n",
    "\n",
    "### The range is from 3 to 11\n"
   ]
  },
  {
   "cell_type": "code",
   "execution_count": 11,
   "metadata": {},
   "outputs": [
    {
     "name": "stdout",
     "output_type": "stream",
     "text": [
      "False\n"
     ]
    }
   ],
   "source": [
    "check_range = lambda num, start, end: num in range(start, end + 1)\n",
    "\n",
    "print(check_range(8, 1, 7))"
   ]
  },
  {
   "cell_type": "markdown",
   "metadata": {},
   "source": [
    "### Write a  program to create the multiplication table (from 1 to 10) of a number."
   ]
  },
  {
   "cell_type": "code",
   "execution_count": 38,
   "metadata": {},
   "outputs": [
    {
     "name": "stdout",
     "output_type": "stream",
     "text": [
      " 1x1  = 1  | 2x1  = 2  | 3x1  = 3  | 4x1  = 4  | 5x1  = 5  | 6x1  = 6  | 7x1  = 7  | 8x1  = 8  | 9x1  = 9  |10x1  = 10 |\n",
      " 1x2  = 2  | 2x2  = 4  | 3x2  = 6  | 4x2  = 8  | 5x2  = 10 | 6x2  = 12 | 7x2  = 14 | 8x2  = 16 | 9x2  = 18 |10x2  = 20 |\n",
      " 1x3  = 3  | 2x3  = 6  | 3x3  = 9  | 4x3  = 12 | 5x3  = 15 | 6x3  = 18 | 7x3  = 21 | 8x3  = 24 | 9x3  = 27 |10x3  = 30 |\n",
      " 1x4  = 4  | 2x4  = 8  | 3x4  = 12 | 4x4  = 16 | 5x4  = 20 | 6x4  = 24 | 7x4  = 28 | 8x4  = 32 | 9x4  = 36 |10x4  = 40 |\n",
      " 1x5  = 5  | 2x5  = 10 | 3x5  = 15 | 4x5  = 20 | 5x5  = 25 | 6x5  = 30 | 7x5  = 35 | 8x5  = 40 | 9x5  = 45 |10x5  = 50 |\n",
      " 1x6  = 6  | 2x6  = 12 | 3x6  = 18 | 4x6  = 24 | 5x6  = 30 | 6x6  = 36 | 7x6  = 42 | 8x6  = 48 | 9x6  = 54 |10x6  = 60 |\n",
      " 1x7  = 7  | 2x7  = 14 | 3x7  = 21 | 4x7  = 28 | 5x7  = 35 | 6x7  = 42 | 7x7  = 49 | 8x7  = 56 | 9x7  = 63 |10x7  = 70 |\n",
      " 1x8  = 8  | 2x8  = 16 | 3x8  = 24 | 4x8  = 32 | 5x8  = 40 | 6x8  = 48 | 7x8  = 56 | 8x8  = 64 | 9x8  = 72 |10x8  = 80 |\n",
      " 1x9  = 9  | 2x9  = 18 | 3x9  = 27 | 4x9  = 36 | 5x9  = 45 | 6x9  = 54 | 7x9  = 63 | 8x9  = 72 | 9x9  = 81 |10x9  = 90 |\n",
      " 1x10 = 10 | 2x10 = 20 | 3x10 = 30 | 4x10 = 40 | 5x10 = 50 | 6x10 = 60 | 7x10 = 70 | 8x10 = 80 | 9x10 = 90 |10x10 = 100|\n"
     ]
    }
   ],
   "source": [
    "for i in range(1, 11):\n",
    "    for j in range(1, 11):\n",
    "        print(f\"{j:>2}x{i:<2} = {j * i:<3}\", end=\"|\")\n",
    "    print()"
   ]
  },
  {
   "cell_type": "markdown",
   "metadata": {},
   "source": [
    "#### LESSER OF TWO EVENS: Write a function that returns the lesser of two given numbers *if* both numbers are even, but returns the greater if one or both numbers are odd\n",
    "    lesser_of_two_evens(2,4) --> 2\n",
    "    lesser_of_two_evens(2,5) --> 5"
   ]
  },
  {
   "cell_type": "code",
   "execution_count": 39,
   "metadata": {},
   "outputs": [
    {
     "name": "stdout",
     "output_type": "stream",
     "text": [
      "2\n",
      "5\n"
     ]
    }
   ],
   "source": [
    "lesser_of_two_evens = lambda num1, num2: min(num1, num2) if (num1 % 2 == 0 and num2 % 2 == 0) else max(num1, num2)\n",
    "\n",
    "print(lesser_of_two_evens(2,4))\n",
    "print(lesser_of_two_evens(2,5))"
   ]
  },
  {
   "cell_type": "markdown",
   "metadata": {},
   "source": [
    "#### ANIMAL CRACKERS: Write a function takes a two-word string and returns True if both words begin with same letter\n",
    "    animal_crackers('Levelheaded Llama') --> True\n",
    "    animal_crackers('Crazy Kangaroo') --> False"
   ]
  },
  {
   "cell_type": "code",
   "execution_count": 42,
   "metadata": {},
   "outputs": [
    {
     "name": "stdout",
     "output_type": "stream",
     "text": [
      "True\n",
      "False\n"
     ]
    }
   ],
   "source": [
    "def animal_crackers(s):\n",
    "    s1, s2 = s.split()\n",
    "    return s1[0] == s2[0]\n",
    "\n",
    "print(animal_crackers('Levelheaded Llama'))\n",
    "print(animal_crackers('Crazy Kangaroo'))"
   ]
  },
  {
   "cell_type": "markdown",
   "metadata": {},
   "source": [
    "#### MAKES TWENTY: Given two integers, return True if the sum of the integers is 20 *or* if one of the integers is 20. If not, return False\n",
    "\n",
    "    makes_twenty(20,10) --> True\n",
    "    makes_twenty(12,8) --> True\n",
    "    makes_twenty(2,3) --> False"
   ]
  },
  {
   "cell_type": "code",
   "execution_count": 43,
   "metadata": {},
   "outputs": [
    {
     "name": "stdout",
     "output_type": "stream",
     "text": [
      "True\n",
      "True\n",
      "False\n"
     ]
    }
   ],
   "source": [
    "makes_twenty = lambda num1, num2: (num1 + num2 == 20) or (num1==20 or num2 ==20)\n",
    "\n",
    "print(makes_twenty(20,10))\n",
    "print(makes_twenty(12,8))\n",
    "print(makes_twenty(2,3))"
   ]
  },
  {
   "cell_type": "markdown",
   "metadata": {},
   "source": [
    "#### ALMOST THERE: Given an integer n, return True if n is within 10 of either 100 or 200\n",
    "\n",
    "    almost_there(90) --> True\n",
    "    almost_there(104) --> True\n",
    "    almost_there(150) --> False\n",
    "    almost_there(209) --> True\n",
    "    \n",
    "NOTE: `abs(num)` returns the absolute value of a number"
   ]
  },
  {
   "cell_type": "code",
   "execution_count": 45,
   "metadata": {},
   "outputs": [
    {
     "name": "stdout",
     "output_type": "stream",
     "text": [
      "True\n",
      "True\n",
      "False\n",
      "True\n",
      "\n",
      "True\n",
      "True\n",
      "False\n",
      "True\n"
     ]
    }
   ],
   "source": [
    "almost_there = lambda num: (abs(200 - num) <= 10) or (abs(100 - num) <= 10)\n",
    "almost_there2 = lambda num: (190 <= num <= 210) or (90 <= num <= 110)\n",
    "\n",
    "print(almost_there(90))\n",
    "print(almost_there(104))\n",
    "print(almost_there(150))\n",
    "print(almost_there(209))\n",
    "\n",
    "print()\n",
    "\n",
    "print(almost_there2(90))\n",
    "print(almost_there2(104))\n",
    "print(almost_there2(150))\n",
    "print(almost_there2(209))"
   ]
  },
  {
   "cell_type": "markdown",
   "metadata": {},
   "source": [
    "#### BLACKJACK: Given three integers between 1 and 11, if their sum is less than or equal to 21, return their sum. If their sum exceeds 21 *and* there's an eleven, reduce the total sum by 10. Finally, if the sum  exceeds 21, return 'BUST'\n",
    "    blackjack(5,6,7) --> 18\n",
    "    blackjack(9,9,9) --> 'BUST'\n",
    "    blackjack(9,9,11) --> 19"
   ]
  },
  {
   "cell_type": "code",
   "execution_count": 46,
   "metadata": {},
   "outputs": [
    {
     "name": "stdout",
     "output_type": "stream",
     "text": [
      "18\n",
      "BUST\n",
      "19\n"
     ]
    }
   ],
   "source": [
    "blackjack = lambda n1, n2, n3: n1+n2+n3 if n1+n2+n3 <= 21 else n1+n2+n3-10 if (n1==11 or n2==11 or n3==11) else \"BUST\"\n",
    "\n",
    "print(blackjack(5,6,7))\n",
    "print(blackjack(9,9,9))\n",
    "print(blackjack(9,9,11))"
   ]
  }
 ],
 "metadata": {
  "kernelspec": {
   "display_name": "Python 3",
   "language": "python",
   "name": "python3"
  },
  "language_info": {
   "codemirror_mode": {
    "name": "ipython",
    "version": 3
   },
   "file_extension": ".py",
   "mimetype": "text/x-python",
   "name": "python",
   "nbconvert_exporter": "python",
   "pygments_lexer": "ipython3",
   "version": "3.8.5"
  }
 },
 "nbformat": 4,
 "nbformat_minor": 2
}
